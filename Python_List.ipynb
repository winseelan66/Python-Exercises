{
  "nbformat": 4,
  "nbformat_minor": 0,
  "metadata": {
    "colab": {
      "provenance": [],
      "authorship_tag": "ABX9TyPzg1nNI+I+IxmeRllKozsN",
      "include_colab_link": true
    },
    "kernelspec": {
      "name": "python3",
      "display_name": "Python 3"
    },
    "language_info": {
      "name": "python"
    }
  },
  "cells": [
    {
      "cell_type": "markdown",
      "metadata": {
        "id": "view-in-github",
        "colab_type": "text"
      },
      "source": [
        "<a href=\"https://colab.research.google.com/github/winseelan66/Python-Exercises/blob/main/Python_List.ipynb\" target=\"_parent\"><img src=\"https://colab.research.google.com/assets/colab-badge.svg\" alt=\"Open In Colab\"/></a>"
      ]
    },
    {
      "cell_type": "markdown",
      "source": [
        "All exercises are taken from https://www.w3resource.com/python-exercises/list/"
      ],
      "metadata": {
        "id": "vVS4CSBqdsOt"
      }
    },
    {
      "cell_type": "markdown",
      "source": [
        "Sum all the items in a list"
      ],
      "metadata": {
        "id": "stl1HLkKUjx3"
      }
    },
    {
      "cell_type": "code",
      "source": [
        "inputList = [1,2,3,4,5]\n",
        "output:int = 0\n",
        "for item in inputList:\n",
        "  output += item\n",
        "print(output)"
      ],
      "metadata": {
        "colab": {
          "base_uri": "https://localhost:8080/"
        },
        "id": "peDTECFXUkPn",
        "outputId": "516995ab-d6eb-4cb5-9496-eda39b5c0d6a"
      },
      "execution_count": 2,
      "outputs": [
        {
          "output_type": "stream",
          "name": "stdout",
          "text": [
            "15\n"
          ]
        }
      ]
    },
    {
      "cell_type": "markdown",
      "source": [
        "2. Write a Python program to multiply all the items in a list."
      ],
      "metadata": {
        "id": "Jdm0vE9OVX7h"
      }
    },
    {
      "cell_type": "code",
      "source": [
        "inputList = [1,2,3,4,5]\n",
        "output:int =1\n",
        "for item in inputList:\n",
        "  output *= item\n",
        "print(output)"
      ],
      "metadata": {
        "colab": {
          "base_uri": "https://localhost:8080/"
        },
        "id": "7FX3vbkKVYbt",
        "outputId": "ac30c58a-935e-499f-c124-cf56adb17cf6"
      },
      "execution_count": 5,
      "outputs": [
        {
          "output_type": "stream",
          "name": "stdout",
          "text": [
            "120\n"
          ]
        }
      ]
    },
    {
      "cell_type": "markdown",
      "source": [
        "3. Write a Python program to get the largest number from a list."
      ],
      "metadata": {
        "id": "3RwAtDEVVyys"
      }
    },
    {
      "cell_type": "code",
      "source": [
        "# inputList = [1,2,3,4,5]\n",
        "inputList = [-1,500,1,0,35]\n",
        "output:int = inputList[0]\n",
        "for item in inputList:\n",
        "  if (output < item):\n",
        "      output = item\n",
        "print(output)"
      ],
      "metadata": {
        "colab": {
          "base_uri": "https://localhost:8080/"
        },
        "id": "BscnMZyKVzRk",
        "outputId": "c453539c-1447-4f4b-ada5-5af022bf9223"
      },
      "execution_count": 8,
      "outputs": [
        {
          "output_type": "stream",
          "name": "stdout",
          "text": [
            "500\n"
          ]
        }
      ]
    },
    {
      "cell_type": "markdown",
      "source": [
        "4. Write a Python program to get the smallest number from a list."
      ],
      "metadata": {
        "id": "k3taLD9aW7Xb"
      }
    },
    {
      "cell_type": "code",
      "source": [
        "# inputList = [1,2,3,4,5]\n",
        "inputList = [-1,500,1,0,35]\n",
        "output:int = inputList[0]\n",
        "for item in inputList:\n",
        "  if (output > item):\n",
        "      output = item\n",
        "print(output)"
      ],
      "metadata": {
        "colab": {
          "base_uri": "https://localhost:8080/"
        },
        "id": "_U5oJ3noW8Cp",
        "outputId": "7a448e10-3d4a-4b11-b26e-8e1d244395a2"
      },
      "execution_count": 9,
      "outputs": [
        {
          "output_type": "stream",
          "name": "stdout",
          "text": [
            "-1\n"
          ]
        }
      ]
    },
    {
      "cell_type": "markdown",
      "source": [
        "6. Write a Python program to get a list, sorted in increasing order by the last element in each tuple from a given list of non-empty tuples.\n",
        "Sample List : [(2, 5), (1, 2), (4, 4), (2, 3), (2, 1)]\n",
        "Expected Result : [(2, 1), (1, 2), (2, 3), (4, 4), (2, 5)]"
      ],
      "metadata": {
        "id": "rX94jXznXSbf"
      }
    },
    {
      "cell_type": "code",
      "source": [
        "SampleList = [(2, 5), (1, 2), (4, 4), (2, 3), (2, 1)]\n",
        "output= []\n",
        "for item in SampleList[::-1]:\n",
        "  print(item)\n",
        "  output.append(item)\n",
        "\n",
        "print(output)"
      ],
      "metadata": {
        "colab": {
          "base_uri": "https://localhost:8080/"
        },
        "id": "-_g73PGTXSzX",
        "outputId": "3a907a7e-1d7e-4c4c-fba9-f94c56e4a8d4"
      },
      "execution_count": 11,
      "outputs": [
        {
          "output_type": "stream",
          "name": "stdout",
          "text": [
            "(2, 1)\n",
            "(2, 3)\n",
            "(4, 4)\n",
            "(1, 2)\n",
            "(2, 5)\n",
            "[(2, 1), (2, 3), (4, 4), (1, 2), (2, 5)]\n"
          ]
        }
      ]
    },
    {
      "cell_type": "markdown",
      "source": [
        "7. Write a Python program to remove duplicates from a list"
      ],
      "metadata": {
        "id": "q-3eqQZBY-x5"
      }
    },
    {
      "cell_type": "code",
      "source": [
        "a = [10, 20, 30, 20, 10, 50, 60, 40, 80, 50, 40]\n",
        "print(set(a))"
      ],
      "metadata": {
        "colab": {
          "base_uri": "https://localhost:8080/"
        },
        "id": "oA8WF9A3ZJi6",
        "outputId": "0edbbe85-f8e3-43fc-9bf9-a44f6455278e"
      },
      "execution_count": 12,
      "outputs": [
        {
          "output_type": "stream",
          "name": "stdout",
          "text": [
            "{40, 10, 80, 50, 20, 60, 30}\n"
          ]
        }
      ]
    },
    {
      "cell_type": "markdown",
      "source": [
        "8. Write a Python program to check if a list is empty or not."
      ],
      "metadata": {
        "id": "vVoec1WyZcRz"
      }
    },
    {
      "cell_type": "code",
      "source": [
        "l = []\n",
        "if not l:\n",
        "  print(\"List is empty\")\n",
        "\n",
        "if len(l) <=0:\n",
        "  print (\"list is empty again\")"
      ],
      "metadata": {
        "colab": {
          "base_uri": "https://localhost:8080/"
        },
        "id": "_Qwbm9ftZczw",
        "outputId": "8d7ab8c0-7c0e-490d-90b0-51cd81e9a0b1"
      },
      "execution_count": 13,
      "outputs": [
        {
          "output_type": "stream",
          "name": "stdout",
          "text": [
            "List is empty\n",
            "list is empty again\n"
          ]
        }
      ]
    },
    {
      "cell_type": "markdown",
      "source": [
        "9. Write a Python program to clone or copy a list."
      ],
      "metadata": {
        "id": "34z0OH6LZ0aV"
      }
    },
    {
      "cell_type": "code",
      "source": [
        "# Create a list 'original_list' with some elements\n",
        "#When you clone or copy a list in Python, you're essentially creating a new list that contains the same elements as the original list.\n",
        "# It's not just about creating the same data type (which would be another list); it's about replicating the data within that structure.\n",
        "original_list = [10, 22, 44, 23, 4]\n",
        "\n",
        "cloneList = list(original_list)\n",
        "print(cloneList)\n",
        "\n",
        "# copy list\n",
        "copyList = original_list.copy()\n",
        "print(copyList)"
      ],
      "metadata": {
        "colab": {
          "base_uri": "https://localhost:8080/"
        },
        "id": "FG2gBgtdZ1Bl",
        "outputId": "2fecbe79-8882-4e31-f3d2-cc30b8407dc5"
      },
      "execution_count": 14,
      "outputs": [
        {
          "output_type": "stream",
          "name": "stdout",
          "text": [
            "[10, 22, 44, 23, 4]\n",
            "[10, 22, 44, 23, 4]\n"
          ]
        }
      ]
    },
    {
      "cell_type": "markdown",
      "source": [
        "9. Write a Python program to clone or copy a list."
      ],
      "metadata": {
        "id": "ibBeKA26a8Jd"
      }
    },
    {
      "cell_type": "code",
      "source": [
        "\n",
        "\n",
        "def findLengthyWords(listWords,n):\n",
        "  print (n)\n",
        "  output = []\n",
        "  nLen = len(n)\n",
        "  for word in listWords:\n",
        "    print(len(word))\n",
        "    print(word)\n",
        "    if len(word) <= nLen:\n",
        "      output.append(word)\n",
        "      print(word + \" is removed\")\n",
        "  print(output)\n",
        "\n",
        "listWords = ['quick', 'browne', 'jumps', 'over', 'lazy']\n",
        "\n",
        "findLengthyWords(listWords,\"fish\")\n"
      ],
      "metadata": {
        "colab": {
          "base_uri": "https://localhost:8080/"
        },
        "id": "TZH4yYjja58O",
        "outputId": "84c9681e-ec66-4fbb-8d80-871643b7cf92"
      },
      "execution_count": 27,
      "outputs": [
        {
          "output_type": "stream",
          "name": "stdout",
          "text": [
            "fish\n",
            "5\n",
            "quick\n",
            "6\n",
            "browne\n",
            "5\n",
            "jumps\n",
            "4\n",
            "over\n",
            "over is removed\n",
            "4\n",
            "lazy\n",
            "lazy is removed\n",
            "['over', 'lazy']\n"
          ]
        }
      ]
    },
    {
      "cell_type": "markdown",
      "source": [
        "13. Write a Python program to generate a 3*4*6 3D array whose each element is *."
      ],
      "metadata": {
        "id": "UATyf9x3dppk"
      }
    }
  ]
}