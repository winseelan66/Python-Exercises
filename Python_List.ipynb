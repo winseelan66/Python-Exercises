{
  "nbformat": 4,
  "nbformat_minor": 0,
  "metadata": {
    "colab": {
      "provenance": [],
      "authorship_tag": "ABX9TyMT+Znu2xVKSXjXMHGO69Qv",
      "include_colab_link": true
    },
    "kernelspec": {
      "name": "python3",
      "display_name": "Python 3"
    },
    "language_info": {
      "name": "python"
    }
  },
  "cells": [
    {
      "cell_type": "markdown",
      "metadata": {
        "id": "view-in-github",
        "colab_type": "text"
      },
      "source": [
        "<a href=\"https://colab.research.google.com/github/winseelan66/Python-Exercises/blob/main/Python_List.ipynb\" target=\"_parent\"><img src=\"https://colab.research.google.com/assets/colab-badge.svg\" alt=\"Open In Colab\"/></a>"
      ]
    },
    {
      "cell_type": "markdown",
      "source": [
        "Sum all the items in a list"
      ],
      "metadata": {
        "id": "stl1HLkKUjx3"
      }
    },
    {
      "cell_type": "code",
      "source": [
        "inputList = [1,2,3,4,5]\n",
        "output:int = 0\n",
        "for item in inputList:\n",
        "  output += item\n",
        "print(output)"
      ],
      "metadata": {
        "colab": {
          "base_uri": "https://localhost:8080/"
        },
        "id": "peDTECFXUkPn",
        "outputId": "a2cd4c88-adf7-48fc-b90a-bf2b344ed507"
      },
      "execution_count": 1,
      "outputs": [
        {
          "output_type": "stream",
          "name": "stdout",
          "text": [
            "15\n"
          ]
        }
      ]
    }
  ]
}