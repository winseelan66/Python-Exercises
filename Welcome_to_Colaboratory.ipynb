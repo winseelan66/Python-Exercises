{
  "cells": [
    {
      "cell_type": "markdown",
      "metadata": {
        "id": "view-in-github",
        "colab_type": "text"
      },
      "source": [
        "<a href=\"https://colab.research.google.com/github/winseelan66/Python-Exercises/blob/main/Welcome_to_Colaboratory.ipynb\" target=\"_parent\"><img src=\"https://colab.research.google.com/assets/colab-badge.svg\" alt=\"Open In Colab\"/></a>"
      ]
    },
    {
      "cell_type": "markdown",
      "source": [
        "Python: Print current time and date"
      ],
      "metadata": {
        "id": "5QQgqUIjFwN8"
      }
    },
    {
      "cell_type": "code",
      "source": [
        "import datetime as date\n",
        "\n",
        "# Get the current date and time\n",
        "now = date.datetime.now()\n",
        "\n",
        "# Display a message indicating what is being printed\n",
        "print(\"Current date and time : \")\n",
        "\n",
        "# Print the current date and time in a specific format\n",
        "print(now.strftime(\"%Y-%m-%d\"))"
      ],
      "metadata": {
        "colab": {
          "base_uri": "https://localhost:8080/"
        },
        "id": "WyAtgSVGC3tV",
        "outputId": "fa3bb956-b54d-4ebf-ad8e-506af063f5c2"
      },
      "execution_count": 20,
      "outputs": [
        {
          "output_type": "stream",
          "name": "stdout",
          "text": [
            "Current date and time : \n",
            "2024-04-14 \n"
          ]
        }
      ]
    },
    {
      "cell_type": "markdown",
      "source": [
        "Write a Python program that accepts the user's first and last name and prints them in reverse order with a space between them."
      ],
      "metadata": {
        "id": "nJlAHpXFF6iX"
      }
    },
    {
      "cell_type": "code",
      "source": [
        "firstName = \"Jesus\" #input(\"Enter first name\")\n",
        "lastName = \"Good friday\"#input(\"Enter second name\")\n",
        "print(firstName[::-1])\n",
        "print(lastName[::-1])\n",
        "\n"
      ],
      "metadata": {
        "colab": {
          "base_uri": "https://localhost:8080/"
        },
        "id": "JEP0mgrAF7HT",
        "outputId": "4a037e20-266e-4fc4-b4be-1dbd9ae10cd8"
      },
      "execution_count": 23,
      "outputs": [
        {
          "output_type": "stream",
          "name": "stdout",
          "text": [
            "suseJ\n",
            "yadirf dooG\n"
          ]
        }
      ]
    },
    {
      "cell_type": "markdown",
      "source": [
        "Learn how to remove duplicates from a List in Python.\n"
      ],
      "metadata": {
        "id": "Zvx7ozKiHfsD"
      }
    },
    {
      "cell_type": "code",
      "source": [
        "mylist = [\"a\", \"b\", \"a\", \"c\", \"c\"]\n",
        "output = list(set(mylist))\n",
        "print(output)"
      ],
      "metadata": {
        "colab": {
          "base_uri": "https://localhost:8080/"
        },
        "id": "yHLGGZKnHgsC",
        "outputId": "d8bb3374-d6e2-47ac-853a-e6a935d3bfb8"
      },
      "execution_count": 25,
      "outputs": [
        {
          "output_type": "stream",
          "name": "stdout",
          "text": [
            "['a', 'c', 'b']\n"
          ]
        }
      ]
    },
    {
      "cell_type": "markdown",
      "source": [
        "Write a Python program that accepts a filename from the user and prints the extension of the file.\n"
      ],
      "metadata": {
        "id": "MkNF4eVrII6I"
      }
    },
    {
      "cell_type": "code",
      "source": [
        "fileName = \"welcome.txt\"\n",
        "dotPosition = fileName.index(\".\")\n",
        "print(dotPosition)\n",
        "output = fileName[dotPosition+1::]\n",
        "print(output)"
      ],
      "metadata": {
        "colab": {
          "base_uri": "https://localhost:8080/"
        },
        "id": "Z7OqjBraIJaB",
        "outputId": "f0e90060-52f5-47fe-e75d-1bc9f2811131"
      },
      "execution_count": 29,
      "outputs": [
        {
          "output_type": "stream",
          "name": "stdout",
          "text": [
            "7\n",
            "txt\n"
          ]
        }
      ]
    }
  ],
  "metadata": {
    "colab": {
      "name": "Welcome to Colaboratory",
      "toc_visible": true,
      "provenance": [],
      "include_colab_link": true
    },
    "kernelspec": {
      "display_name": "Python 3",
      "name": "python3"
    }
  },
  "nbformat": 4,
  "nbformat_minor": 0
}